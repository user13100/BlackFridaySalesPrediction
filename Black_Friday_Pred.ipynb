{
 "cells": [
  {
   "cell_type": "markdown",
   "id": "d3894233-4161-456e-88f6-16ecee9296b5",
   "metadata": {},
   "source": [
    "# Black Friday Sales Prediction "
   ]
  },
  {
   "cell_type": "markdown",
   "id": "867698b2-6968-4e99-9643-12b37a3deaec",
   "metadata": {},
   "source": [
    "### Problem Statement:\n",
    "\n",
    "A retail company “ABC Private Limited” wants to understand the customer purchase behaviour (specifically, purchase amount) against various products of different categories. They have shared purchase summary of various customers for selected high volume products from last month.\n",
    "The data set also contains customer demographics (age, gender, marital status, city_type, stay_in_current_city), product details (product_id and product category) and Total purchase_amount from last month.\n",
    "\n",
    "Now, they want to build a model to predict the purchase amount of customer against various products which will help them to create personalized offer for customers against different products.\n",
    "\n",
    "Here is the definition of all the columns in the dataset"
   ]
  },
  {
   "cell_type": "markdown",
   "id": "8539aec5-8520-4c60-87a9-5effc34930ea",
   "metadata": {},
   "source": [
    "| Variable                       | Definition                                          |\n",
    "| ------------------------------ | --------------------------------------------------- |\n",
    "| User\\_ID                       | User ID                                             |\n",
    "| Product\\_ID                    | Product ID                                          |\n",
    "| Gender                         | Sex of User                                         |\n",
    "| Age                            | Age in bins                                         |\n",
    "| Occupation                     | Occupation (Masked)                                 |\n",
    "| City\\_Category                 | Category of the City (A,B,C)                        |\n",
    "| Stay\\_In\\_Current\\_City\\_Years | Number of years stay in current city                |\n",
    "| Marital\\_Status                | Marital Status                                      |\n",
    "| Product\\_Category\\_1           | Product Category (Masked)                           |\n",
    "| Product\\_Category\\_2           | Product may belongs to other category also (Masked) |\n",
    "| Product\\_Category\\_3           | Product may belongs to other category also (Masked) |\n",
    "| Purchase                       | Purchase Amount (Target Variable)                   |"
   ]
  },
  {
   "cell_type": "markdown",
   "id": "e7725c49-8d0b-4af8-9c9a-deed7e8371c1",
   "metadata": {},
   "source": [
    "Your model performance will be evaluated on the basis of your prediction of the purchase amount for the test data (test.csv), which contains similar data-points as train except for their purchase amount. Your submission needs to be in the format as shown in \"SampleSubmission.csv\".\n",
    "\n",
    "We at our end, have the actual purchase amount for the test dataset, against which your predictions will be evaluated. Submissions are scored on the root mean squared error (RMSE). RMSE is very common and is a suitable general-purpose error metric. Compared to the Mean Absolute Error, RMSE punishes large errors"
   ]
  },
  {
   "cell_type": "markdown",
   "id": "e7f3bd6f-b884-406e-b355-fa48c4342cdf",
   "metadata": {},
   "source": [
    "#### IMPOTING DATASETS"
   ]
  },
  {
   "cell_type": "code",
   "execution_count": 1,
   "id": "f1aefbcf-0b54-4d32-8f7c-166f6ae4cb43",
   "metadata": {},
   "outputs": [],
   "source": [
    "import pandas as pd\n",
    "import seaborn as sns\n",
    "import matplotlib.pyplot as plt\n",
    "import numpy as np"
   ]
  },
  {
   "cell_type": "markdown",
   "id": "00c10945-8408-48bf-ba4c-14efbb464539",
   "metadata": {},
   "source": [
    "#### Loading the dataset"
   ]
  },
  {
   "cell_type": "code",
   "execution_count": 2,
   "id": "cfa7c9d7-5e8e-4aa7-8b4c-eb156ad6a156",
   "metadata": {},
   "outputs": [],
   "source": [
    "train_df= pd.read_csv('train_bf.csv')\n",
    "test_df=pd.read_csv('test_bf.csv')\n",
    "\n",
    "train_df['source']='train'\n",
    "test_df['source']='test'\n",
    "\n",
    "combine_df= train_df.append(test_df)"
   ]
  },
  {
   "cell_type": "code",
   "execution_count": 3,
   "id": "4b425d99-ce23-4a07-abda-d08cf1472c24",
   "metadata": {},
   "outputs": [
    {
     "data": {
      "text/html": [
       "<div>\n",
       "<style scoped>\n",
       "    .dataframe tbody tr th:only-of-type {\n",
       "        vertical-align: middle;\n",
       "    }\n",
       "\n",
       "    .dataframe tbody tr th {\n",
       "        vertical-align: top;\n",
       "    }\n",
       "\n",
       "    .dataframe thead th {\n",
       "        text-align: right;\n",
       "    }\n",
       "</style>\n",
       "<table border=\"1\" class=\"dataframe\">\n",
       "  <thead>\n",
       "    <tr style=\"text-align: right;\">\n",
       "      <th></th>\n",
       "      <th>User_ID</th>\n",
       "      <th>Product_ID</th>\n",
       "      <th>Gender</th>\n",
       "      <th>Age</th>\n",
       "      <th>Occupation</th>\n",
       "      <th>City_Category</th>\n",
       "      <th>Stay_In_Current_City_Years</th>\n",
       "      <th>Marital_Status</th>\n",
       "      <th>Product_Category_1</th>\n",
       "      <th>Product_Category_2</th>\n",
       "      <th>Product_Category_3</th>\n",
       "      <th>Purchase</th>\n",
       "      <th>source</th>\n",
       "    </tr>\n",
       "  </thead>\n",
       "  <tbody>\n",
       "    <tr>\n",
       "      <th>0</th>\n",
       "      <td>1000001</td>\n",
       "      <td>P00069042</td>\n",
       "      <td>F</td>\n",
       "      <td>0-17</td>\n",
       "      <td>10</td>\n",
       "      <td>A</td>\n",
       "      <td>2</td>\n",
       "      <td>0</td>\n",
       "      <td>3</td>\n",
       "      <td>NaN</td>\n",
       "      <td>NaN</td>\n",
       "      <td>8370</td>\n",
       "      <td>train</td>\n",
       "    </tr>\n",
       "    <tr>\n",
       "      <th>1</th>\n",
       "      <td>1000001</td>\n",
       "      <td>P00248942</td>\n",
       "      <td>F</td>\n",
       "      <td>0-17</td>\n",
       "      <td>10</td>\n",
       "      <td>A</td>\n",
       "      <td>2</td>\n",
       "      <td>0</td>\n",
       "      <td>1</td>\n",
       "      <td>6.0</td>\n",
       "      <td>14.0</td>\n",
       "      <td>15200</td>\n",
       "      <td>train</td>\n",
       "    </tr>\n",
       "    <tr>\n",
       "      <th>2</th>\n",
       "      <td>1000001</td>\n",
       "      <td>P00087842</td>\n",
       "      <td>F</td>\n",
       "      <td>0-17</td>\n",
       "      <td>10</td>\n",
       "      <td>A</td>\n",
       "      <td>2</td>\n",
       "      <td>0</td>\n",
       "      <td>12</td>\n",
       "      <td>NaN</td>\n",
       "      <td>NaN</td>\n",
       "      <td>1422</td>\n",
       "      <td>train</td>\n",
       "    </tr>\n",
       "  </tbody>\n",
       "</table>\n",
       "</div>"
      ],
      "text/plain": [
       "   User_ID Product_ID Gender   Age  Occupation City_Category  \\\n",
       "0  1000001  P00069042      F  0-17          10             A   \n",
       "1  1000001  P00248942      F  0-17          10             A   \n",
       "2  1000001  P00087842      F  0-17          10             A   \n",
       "\n",
       "  Stay_In_Current_City_Years  Marital_Status  Product_Category_1  \\\n",
       "0                          2               0                   3   \n",
       "1                          2               0                   1   \n",
       "2                          2               0                  12   \n",
       "\n",
       "   Product_Category_2  Product_Category_3  Purchase source  \n",
       "0                 NaN                 NaN      8370  train  \n",
       "1                 6.0                14.0     15200  train  \n",
       "2                 NaN                 NaN      1422  train  "
      ]
     },
     "execution_count": 3,
     "metadata": {},
     "output_type": "execute_result"
    }
   ],
   "source": [
    "train_df.head(3)"
   ]
  },
  {
   "cell_type": "code",
   "execution_count": 4,
   "id": "2a06adc5-7a21-48d4-baaa-c3cae5e74f64",
   "metadata": {},
   "outputs": [
    {
     "name": "stdout",
     "output_type": "stream",
     "text": [
      "(550068, 13)\n",
      "(233599, 12)\n"
     ]
    }
   ],
   "source": [
    "print(train_df.shape)\n",
    "print(test_df.shape)"
   ]
  },
  {
   "cell_type": "code",
   "execution_count": 5,
   "id": "6a411773-6dce-465b-ac4e-e97ba9bc5dd2",
   "metadata": {},
   "outputs": [
    {
     "name": "stdout",
     "output_type": "stream",
     "text": [
      "<class 'pandas.core.frame.DataFrame'>\n",
      "RangeIndex: 550068 entries, 0 to 550067\n",
      "Data columns (total 13 columns):\n",
      " #   Column                      Non-Null Count   Dtype  \n",
      "---  ------                      --------------   -----  \n",
      " 0   User_ID                     550068 non-null  int64  \n",
      " 1   Product_ID                  550068 non-null  object \n",
      " 2   Gender                      550068 non-null  object \n",
      " 3   Age                         550068 non-null  object \n",
      " 4   Occupation                  550068 non-null  int64  \n",
      " 5   City_Category               550068 non-null  object \n",
      " 6   Stay_In_Current_City_Years  550068 non-null  object \n",
      " 7   Marital_Status              550068 non-null  int64  \n",
      " 8   Product_Category_1          550068 non-null  int64  \n",
      " 9   Product_Category_2          376430 non-null  float64\n",
      " 10  Product_Category_3          166821 non-null  float64\n",
      " 11  Purchase                    550068 non-null  int64  \n",
      " 12  source                      550068 non-null  object \n",
      "dtypes: float64(2), int64(5), object(6)\n",
      "memory usage: 54.6+ MB\n"
     ]
    }
   ],
   "source": [
    "# Checking data types\n",
    "train_df.info()"
   ]
  },
  {
   "cell_type": "markdown",
   "id": "b2646b9f-f7eb-47a4-9ff1-d97dd5eb10be",
   "metadata": {},
   "source": [
    "#### Numerical variables: Product_Category_1, Product_Category_2  \n",
    "#### categorical varibales: Gender, Occupation, city_category, marital status (encoded 0/1), Age, stay_in_current_city_years\n",
    "#### Target variable: Purchase"
   ]
  },
  {
   "cell_type": "code",
   "execution_count": 6,
   "id": "1fb90eed-87e4-46b7-bc3b-672440f5c9c6",
   "metadata": {},
   "outputs": [
    {
     "data": {
      "text/plain": [
       "1     193821\n",
       "2     101838\n",
       "3      95285\n",
       "4+     84726\n",
       "0      74398\n",
       "Name: Stay_In_Current_City_Years, dtype: int64"
      ]
     },
     "execution_count": 6,
     "metadata": {},
     "output_type": "execute_result"
    }
   ],
   "source": [
    "train_df.Stay_In_Current_City_Years.value_counts()"
   ]
  },
  {
   "cell_type": "code",
   "execution_count": 7,
   "id": "22db7607-c1af-4a16-9833-148dc80bc2c0",
   "metadata": {},
   "outputs": [
    {
     "data": {
      "text/plain": [
       "M    414259\n",
       "F    135809\n",
       "Name: Gender, dtype: int64"
      ]
     },
     "execution_count": 7,
     "metadata": {},
     "output_type": "execute_result"
    }
   ],
   "source": [
    "train_df.Gender.value_counts()"
   ]
  },
  {
   "cell_type": "markdown",
   "id": "84cb096d-b07c-4266-b185-29360ad76c62",
   "metadata": {},
   "source": [
    "### Checking for Null values"
   ]
  },
  {
   "cell_type": "code",
   "execution_count": 8,
   "id": "5801b0a7-e383-460a-9598-2e33f6741a73",
   "metadata": {},
   "outputs": [
    {
     "data": {
      "text/plain": [
       "User_ID                            0\n",
       "Product_ID                         0\n",
       "Gender                             0\n",
       "Age                                0\n",
       "Occupation                         0\n",
       "City_Category                      0\n",
       "Stay_In_Current_City_Years         0\n",
       "Marital_Status                     0\n",
       "Product_Category_1                 0\n",
       "Product_Category_2            173638\n",
       "Product_Category_3            383247\n",
       "Purchase                           0\n",
       "source                             0\n",
       "dtype: int64"
      ]
     },
     "execution_count": 8,
     "metadata": {},
     "output_type": "execute_result"
    }
   ],
   "source": [
    "train_df.isnull().sum()"
   ]
  },
  {
   "cell_type": "code",
   "execution_count": 9,
   "id": "c5a8c08f-3d76-486a-8222-45c901cb9f37",
   "metadata": {},
   "outputs": [
    {
     "data": {
      "text/plain": [
       "User_ID                            0\n",
       "Product_ID                         0\n",
       "Gender                             0\n",
       "Age                                0\n",
       "Occupation                         0\n",
       "City_Category                      0\n",
       "Stay_In_Current_City_Years         0\n",
       "Marital_Status                     0\n",
       "Product_Category_1                 0\n",
       "Product_Category_2             72344\n",
       "Product_Category_3            162562\n",
       "source                             0\n",
       "dtype: int64"
      ]
     },
     "execution_count": 9,
     "metadata": {},
     "output_type": "execute_result"
    }
   ],
   "source": [
    "test_df.isnull().sum()"
   ]
  },
  {
   "cell_type": "code",
   "execution_count": 10,
   "id": "709550d7-c537-4b18-a47a-51583619d2fe",
   "metadata": {},
   "outputs": [
    {
     "data": {
      "text/html": [
       "<div>\n",
       "<style scoped>\n",
       "    .dataframe tbody tr th:only-of-type {\n",
       "        vertical-align: middle;\n",
       "    }\n",
       "\n",
       "    .dataframe tbody tr th {\n",
       "        vertical-align: top;\n",
       "    }\n",
       "\n",
       "    .dataframe thead th {\n",
       "        text-align: right;\n",
       "    }\n",
       "</style>\n",
       "<table border=\"1\" class=\"dataframe\">\n",
       "  <thead>\n",
       "    <tr style=\"text-align: right;\">\n",
       "      <th></th>\n",
       "      <th>count</th>\n",
       "      <th>mean</th>\n",
       "      <th>std</th>\n",
       "      <th>min</th>\n",
       "      <th>25%</th>\n",
       "      <th>50%</th>\n",
       "      <th>75%</th>\n",
       "      <th>max</th>\n",
       "    </tr>\n",
       "  </thead>\n",
       "  <tbody>\n",
       "    <tr>\n",
       "      <th>User_ID</th>\n",
       "      <td>550068.0</td>\n",
       "      <td>1.003029e+06</td>\n",
       "      <td>1727.591586</td>\n",
       "      <td>1000001.0</td>\n",
       "      <td>1001516.0</td>\n",
       "      <td>1003077.0</td>\n",
       "      <td>1004478.0</td>\n",
       "      <td>1006040.0</td>\n",
       "    </tr>\n",
       "    <tr>\n",
       "      <th>Occupation</th>\n",
       "      <td>550068.0</td>\n",
       "      <td>8.076707e+00</td>\n",
       "      <td>6.522660</td>\n",
       "      <td>0.0</td>\n",
       "      <td>2.0</td>\n",
       "      <td>7.0</td>\n",
       "      <td>14.0</td>\n",
       "      <td>20.0</td>\n",
       "    </tr>\n",
       "    <tr>\n",
       "      <th>Marital_Status</th>\n",
       "      <td>550068.0</td>\n",
       "      <td>4.096530e-01</td>\n",
       "      <td>0.491770</td>\n",
       "      <td>0.0</td>\n",
       "      <td>0.0</td>\n",
       "      <td>0.0</td>\n",
       "      <td>1.0</td>\n",
       "      <td>1.0</td>\n",
       "    </tr>\n",
       "    <tr>\n",
       "      <th>Product_Category_1</th>\n",
       "      <td>550068.0</td>\n",
       "      <td>5.404270e+00</td>\n",
       "      <td>3.936211</td>\n",
       "      <td>1.0</td>\n",
       "      <td>1.0</td>\n",
       "      <td>5.0</td>\n",
       "      <td>8.0</td>\n",
       "      <td>20.0</td>\n",
       "    </tr>\n",
       "    <tr>\n",
       "      <th>Product_Category_2</th>\n",
       "      <td>376430.0</td>\n",
       "      <td>9.842329e+00</td>\n",
       "      <td>5.086590</td>\n",
       "      <td>2.0</td>\n",
       "      <td>5.0</td>\n",
       "      <td>9.0</td>\n",
       "      <td>15.0</td>\n",
       "      <td>18.0</td>\n",
       "    </tr>\n",
       "    <tr>\n",
       "      <th>Product_Category_3</th>\n",
       "      <td>166821.0</td>\n",
       "      <td>1.266824e+01</td>\n",
       "      <td>4.125338</td>\n",
       "      <td>3.0</td>\n",
       "      <td>9.0</td>\n",
       "      <td>14.0</td>\n",
       "      <td>16.0</td>\n",
       "      <td>18.0</td>\n",
       "    </tr>\n",
       "    <tr>\n",
       "      <th>Purchase</th>\n",
       "      <td>550068.0</td>\n",
       "      <td>9.263969e+03</td>\n",
       "      <td>5023.065394</td>\n",
       "      <td>12.0</td>\n",
       "      <td>5823.0</td>\n",
       "      <td>8047.0</td>\n",
       "      <td>12054.0</td>\n",
       "      <td>23961.0</td>\n",
       "    </tr>\n",
       "  </tbody>\n",
       "</table>\n",
       "</div>"
      ],
      "text/plain": [
       "                       count          mean          std        min        25%  \\\n",
       "User_ID             550068.0  1.003029e+06  1727.591586  1000001.0  1001516.0   \n",
       "Occupation          550068.0  8.076707e+00     6.522660        0.0        2.0   \n",
       "Marital_Status      550068.0  4.096530e-01     0.491770        0.0        0.0   \n",
       "Product_Category_1  550068.0  5.404270e+00     3.936211        1.0        1.0   \n",
       "Product_Category_2  376430.0  9.842329e+00     5.086590        2.0        5.0   \n",
       "Product_Category_3  166821.0  1.266824e+01     4.125338        3.0        9.0   \n",
       "Purchase            550068.0  9.263969e+03  5023.065394       12.0     5823.0   \n",
       "\n",
       "                          50%        75%        max  \n",
       "User_ID             1003077.0  1004478.0  1006040.0  \n",
       "Occupation                7.0       14.0       20.0  \n",
       "Marital_Status            0.0        1.0        1.0  \n",
       "Product_Category_1        5.0        8.0       20.0  \n",
       "Product_Category_2        9.0       15.0       18.0  \n",
       "Product_Category_3       14.0       16.0       18.0  \n",
       "Purchase               8047.0    12054.0    23961.0  "
      ]
     },
     "execution_count": 10,
     "metadata": {},
     "output_type": "execute_result"
    }
   ],
   "source": [
    "# EDA\n",
    "train_df.describe().transpose()"
   ]
  },
  {
   "cell_type": "markdown",
   "id": "2c2f36e8-22aa-46f3-88c0-a1247b2de978",
   "metadata": {},
   "source": [
    "There are missing values in Product_Category_2 and Product_Category_3- There is no need to deal with them \n",
    "\n",
    "Age: should be treated as a categorical column, encoding to be done\n",
    "\n",
    "City_Category: convert this to a numerical column and should look at the frequency of each city category.\n",
    "\n",
    "Gender: should be encoded too \n",
    "\n",
    "Product_Category_2 and Product_Category_3 have null values\n"
   ]
  },
  {
   "cell_type": "code",
   "execution_count": 11,
   "id": "82669685-0abf-4400-952b-cc41b3009539",
   "metadata": {},
   "outputs": [
    {
     "data": {
      "text/plain": [
       "<function seaborn.distributions.kdeplot(x=None, *, y=None, shade=None, vertical=False, kernel=None, bw=None, gridsize=200, cut=3, clip=None, legend=True, cumulative=False, shade_lowest=None, cbar=False, cbar_ax=None, cbar_kws=None, ax=None, weights=None, hue=None, palette=None, hue_order=None, hue_norm=None, multiple='layer', common_norm=True, common_grid=False, levels=10, thresh=0.05, bw_method='scott', bw_adjust=1, log_scale=None, color=None, fill=None, data=None, data2=None, **kwargs)>"
      ]
     },
     "execution_count": 11,
     "metadata": {},
     "output_type": "execute_result"
    }
   ],
   "source": [
    "# Numerical variable analysis- Univariate analysis\n",
    "\n",
    "import seaborn as sns\n",
    "sns.kdeplot"
   ]
  },
  {
   "cell_type": "code",
   "execution_count": 12,
   "id": "5867e9c3-1b99-47b4-af67-c05437a645b9",
   "metadata": {},
   "outputs": [
    {
     "data": {
      "image/png": "[encoded data removed]",
      "text/plain": [
       "<Figure size 360x360 with 1 Axes>"
      ]
     },
     "metadata": {
      "needs_background": "light"
     },
     "output_type": "display_data"
    }
   ],
   "source": [
    "# Target variable purchase\n",
    "import seaborn as sns\n",
    "sns.displot(train_df[\"Purchase\"],color='g')\n",
    "plt.title(\"Purchase Distribution\")\n",
    "plt.show()"
   ]
  },
  {
   "cell_type": "code",
   "execution_count": 13,
   "id": "6d9d456f-f415-40e6-9f22-2d231945e207",
   "metadata": {},
   "outputs": [
    {
     "data": {
      "text/plain": [
       "count    550068.000000\n",
       "mean       9263.968713\n",
       "std        5023.065394\n",
       "min          12.000000\n",
       "25%        5823.000000\n",
       "50%        8047.000000\n",
       "75%       12054.000000\n",
       "max       23961.000000\n",
       "Name: Purchase, dtype: float64"
      ]
     },
     "execution_count": 13,
     "metadata": {},
     "output_type": "execute_result"
    }
   ],
   "source": [
    "train_df[\"Purchase\"].describe()"
   ]
  },
  {
   "cell_type": "markdown",
   "id": "e7b76e6e-86b0-4a5d-b592-fde146c10eb5",
   "metadata": {},
   "source": [
    "## Univariate analysis"
   ]
  },
  {
   "cell_type": "code",
   "execution_count": 14,
   "id": "319d0a49-e966-4dc9-aec3-025482a231b9",
   "metadata": {},
   "outputs": [
    {
     "data": {
      "image/png": "[encoded data removed]",
      "text/plain": [
       "<Figure size 432x288 with 1 Axes>"
      ]
     },
     "metadata": {
      "needs_background": "light"
     },
     "output_type": "display_data"
    }
   ],
   "source": [
    "# Marital Status\n",
    "ax=sns.countplot(x='Marital_Status', data=train_df)\n",
    "# plt.show()"
   ]
  },
  {
   "cell_type": "code",
   "execution_count": 15,
   "id": "0c2f0b5b-4c1a-4766-80b3-c032c413a06e",
   "metadata": {},
   "outputs": [
    {
     "data": {
      "text/plain": [
       "0    59.034701\n",
       "1    40.965299\n",
       "Name: Marital_Status, dtype: float64"
      ]
     },
     "execution_count": 15,
     "metadata": {},
     "output_type": "execute_result"
    }
   ],
   "source": [
    "train_df['Marital_Status'].value_counts(normalize=True)*100"
   ]
  },
  {
   "cell_type": "code",
   "execution_count": 16,
   "id": "c1d8dac2-bd0e-44a9-a945-d219bb46f650",
   "metadata": {},
   "outputs": [
    {
     "data": {
      "image/png": "[encoded data removed]",
      "text/plain": [
       "<Figure size 432x288 with 1 Axes>"
      ]
     },
     "metadata": {
      "needs_background": "light"
     },
     "output_type": "display_data"
    }
   ],
   "source": [
    "# Gender\n",
    "sns.countplot(x='Gender', data=train_df)\n",
    "plt.show()"
   ]
  },
  {
   "cell_type": "code",
   "execution_count": 17,
   "id": "e4fa3702-394b-4a31-9100-85c9831655b6",
   "metadata": {},
   "outputs": [
    {
     "data": {
      "text/plain": [
       "M    75.310507\n",
       "F    24.689493\n",
       "Name: Gender, dtype: float64"
      ]
     },
     "execution_count": 17,
     "metadata": {},
     "output_type": "execute_result"
    }
   ],
   "source": [
    "train_df['Gender'].value_counts(normalize=True)*100"
   ]
  },
  {
   "cell_type": "code",
   "execution_count": 18,
   "id": "26cb04bb-731a-4e80-9f7e-4b98ffdefe17",
   "metadata": {},
   "outputs": [
    {
     "data": {
      "image/png": "[encoded data removed]",
      "text/plain": [
       "<Figure size 432x288 with 1 Axes>"
      ]
     },
     "metadata": {
      "needs_background": "light"
     },
     "output_type": "display_data"
    }
   ],
   "source": [
    "# Marital Status\n",
    "ax=sns.countplot(x='Marital_Status', data=train_df)\n",
    "# plt.show()"
   ]
  },
  {
   "cell_type": "code",
   "execution_count": 19,
   "id": "a5168ed8-66a1-464b-8cdb-68c0993aaa2e",
   "metadata": {},
   "outputs": [
    {
     "data": {
      "image/png": "[encoded data removed]",
      "text/plain": [
       "<Figure size 1296x360 with 1 Axes>"
      ]
     },
     "metadata": {
      "needs_background": "light"
     },
     "output_type": "display_data"
    }
   ],
   "source": [
    "# Occupation \n",
    "plt.figure(figsize=(18,5))\n",
    "ax=sns.countplot(x='Occupation', data=train_df, order= train_df['Occupation'].value_counts().index)"
   ]
  },
  {
   "cell_type": "code",
   "execution_count": 20,
   "id": "a26661a4-2886-48cc-9548-bfe3ce68ccf4",
   "metadata": {},
   "outputs": [
    {
     "data": {
      "image/png": "[encoded data removed]",
      "text/plain": [
       "<Figure size 432x288 with 1 Axes>"
      ]
     },
     "metadata": {
      "needs_background": "light"
     },
     "output_type": "display_data"
    }
   ],
   "source": [
    "# City_Category\n",
    "\n",
    "sns.countplot(x='City_Category', data=train_df)\n",
    "plt.show()"
   ]
  },
  {
   "cell_type": "code",
   "execution_count": 21,
   "id": "3171af44-a40c-4cb7-96fc-f5be72bccb6b",
   "metadata": {},
   "outputs": [
    {
     "data": {
      "image/png": "[encoded data removed]",
      "text/plain": [
       "<Figure size 432x288 with 1 Axes>"
      ]
     },
     "metadata": {
      "needs_background": "light"
     },
     "output_type": "display_data"
    }
   ],
   "source": [
    "# Age\n",
    "\n",
    "sns.countplot(x='Age', data=train_df, order= train_df['Age'].value_counts().index)\n",
    "plt.show()"
   ]
  },
  {
   "cell_type": "code",
   "execution_count": 22,
   "id": "bb82b931-d5e5-4ea7-8514-d2d3f7025e79",
   "metadata": {},
   "outputs": [
    {
     "data": {
      "image/png": "[encoded data removed]",
      "text/plain": [
       "<Figure size 432x288 with 1 Axes>"
      ]
     },
     "metadata": {
      "needs_background": "light"
     },
     "output_type": "display_data"
    }
   ],
   "source": [
    "# Stay_In_Current_City_Years\n",
    "\n",
    "sns.countplot(x='Stay_In_Current_City_Years', data=train_df, order= train_df['Stay_In_Current_City_Years'].value_counts().index)\n",
    "plt.show()"
   ]
  },
  {
   "cell_type": "code",
   "execution_count": 23,
   "id": "084c6b04-3b90-4d99-ba36-aa16a632e7d5",
   "metadata": {},
   "outputs": [
    {
     "data": {
      "image/png": "[encoded data removed]",
      "text/plain": [
       "<Figure size 1296x360 with 1 Axes>"
      ]
     },
     "metadata": {
      "needs_background": "light"
     },
     "output_type": "display_data"
    }
   ],
   "source": [
    "# Univariate analysis of Numeric variables\n",
    "\n",
    "# Product_Category_1\n",
    "plt.figure(figsize=(18,5))\n",
    "sns.countplot(x='Product_Category_1', data=train_df, order= train_df['Product_Category_1'].value_counts().index)\n",
    "plt.show()"
   ]
  },
  {
   "cell_type": "code",
   "execution_count": 24,
   "id": "67ff1501-7c3e-4721-ba57-a48bd5c1dfc7",
   "metadata": {},
   "outputs": [
    {
     "data": {
      "image/png": "[encoded data removed]",
      "text/plain": [
       "<Figure size 1296x360 with 1 Axes>"
      ]
     },
     "metadata": {
      "needs_background": "light"
     },
     "output_type": "display_data"
    }
   ],
   "source": [
    "# Product_Category_2\n",
    "plt.figure(figsize=(18,5))\n",
    "sns.countplot(x='Product_Category_2', data=train_df, order= train_df['Product_Category_2'].value_counts().index)\n",
    "plt.show()"
   ]
  },
  {
   "cell_type": "code",
   "execution_count": 25,
   "id": "a62ff9aa-8a3e-4669-bec4-a850189f45f5",
   "metadata": {},
   "outputs": [
    {
     "data": {
      "image/png": "[encoded data removed]",
      "text/plain": [
       "<Figure size 1296x360 with 1 Axes>"
      ]
     },
     "metadata": {
      "needs_background": "light"
     },
     "output_type": "display_data"
    }
   ],
   "source": [
    "# Product_Category_3\n",
    "plt.figure(figsize=(18,5))\n",
    "sns.countplot(x='Product_Category_3', data=train_df, order= train_df['Product_Category_3'].value_counts().index)\n",
    "plt.show()"
   ]
  },
  {
   "cell_type": "markdown",
   "id": "3cd84e6d-1936-4918-9714-b5fc16931ae0",
   "metadata": {},
   "source": [
    "### Bivariate Analysis"
   ]
  },
  {
   "cell_type": "code",
   "execution_count": 26,
   "id": "74cc90a0-7306-4bad-9bc0-4b6d8ba79ae2",
   "metadata": {},
   "outputs": [
    {
     "data": {
      "text/plain": [
       "<AxesSubplot:xlabel='Age,Gender'>"
      ]
     },
     "execution_count": 26,
     "metadata": {},
     "output_type": "execute_result"
    },
    {
     "data": {
      "image/png": "[encoded data removed]",
      "text/plain": [
       "<Figure size 1296x360 with 1 Axes>"
      ]
     },
     "metadata": {
      "needs_background": "light"
     },
     "output_type": "display_data"
    }
   ],
   "source": [
    "# Lets understand how the dependent variables function wrt the target variabel 'Purchase'\n",
    "plt.figure(figsize=(18,5))\n",
    "group_df = train_df.groupby([\"Age\", \"Gender\"])[\"Purchase\"].sum()\n",
    "group_df.plot(kind='bar')"
   ]
  },
  {
   "cell_type": "code",
   "execution_count": 27,
   "id": "bc081d81-38a5-4992-9245-bc76586fd6c4",
   "metadata": {},
   "outputs": [
    {
     "data": {
      "text/plain": [
       "<AxesSubplot:xlabel='Age,Gender'>"
      ]
     },
     "execution_count": 27,
     "metadata": {},
     "output_type": "execute_result"
    },
    {
     "data": {
      "image/png": "[encoded data removed]",
      "text/plain": [
       "<Figure size 1296x360 with 1 Axes>"
      ]
     },
     "metadata": {
      "needs_background": "light"
     },
     "output_type": "display_data"
    }
   ],
   "source": [
    "plt.figure(figsize=(18,5))\n",
    "group_df = train_df.groupby([\"Age\", \"Gender\"])[\"Purchase\"].mean()\n",
    "group_df.plot(kind='bar')"
   ]
  },
  {
   "cell_type": "code",
   "execution_count": 28,
   "id": "2508282e-4a4d-4d76-83d2-feef2a6e293e",
   "metadata": {},
   "outputs": [
    {
     "data": {
      "text/plain": [
       "<AxesSubplot:xlabel='Occupation'>"
      ]
     },
     "execution_count": 28,
     "metadata": {},
     "output_type": "execute_result"
    },
    {
     "data": {
      "image/png": "[encoded data removed]",
      "text/plain": [
       "<Figure size 1296x360 with 1 Axes>"
      ]
     },
     "metadata": {
      "needs_background": "light"
     },
     "output_type": "display_data"
    }
   ],
   "source": [
    "plt.figure(figsize=(18,5))\n",
    "group_df = train_df.groupby([\"Occupation\"])[\"Purchase\"].mean()\n",
    "group_df.plot(kind='bar')"
   ]
  },
  {
   "cell_type": "markdown",
   "id": "603344a5-02af-4c9d-996f-4e1c2055758a",
   "metadata": {},
   "source": [
    "Most of the categorical variables are having a similar mean distribution of prices, this means there is not a single large affecting factor"
   ]
  },
  {
   "cell_type": "code",
   "execution_count": 29,
   "id": "351d25d6-478f-4e45-bfa5-5a27a7a088aa",
   "metadata": {},
   "outputs": [
    {
     "data": {
      "image/png": "[encoded data removed]",
      "text/plain": [
       "<Figure size 576x360 with 2 Axes>"
      ]
     },
     "metadata": {
      "needs_background": "light"
     },
     "output_type": "display_data"
    }
   ],
   "source": [
    "plt.figure(figsize=(8,5))\n",
    "sns.heatmap(train_df.corr(),annot=True)\n",
    "plt.show()"
   ]
  },
  {
   "cell_type": "markdown",
   "id": "da2ce696-7643-4831-9770-5abd8aef309c",
   "metadata": {},
   "source": [
    "Product Categories have a decent correlation with respect to the Purchase variable, we can also conclude that Marrital Status is not playing any factor in the relationship"
   ]
  },
  {
   "cell_type": "markdown",
   "id": "8fd4a183-a494-406d-a5f5-a49aa053fba9",
   "metadata": {},
   "source": [
    "### Feature Engineering\n",
    "The main aim of Feature Engineering is to analyse the data as much as possible which might involve creating additional features out of the existing\n",
    "features which have a better correlation with the Target Variable. Helps in better model performance."
   ]
  },
  {
   "cell_type": "markdown",
   "id": "987246e5-61c8-496c-ace3-443b57a4de3e",
   "metadata": {},
   "source": [
    "#### Fill the missing values"
   ]
  },
  {
   "cell_type": "code",
   "execution_count": 30,
   "id": "880d4252-0a2a-416f-ba84-f037ff359781",
   "metadata": {},
   "outputs": [],
   "source": [
    "# Since the categories Product_Category_2, Product_Category_3 are sub categories when compared to the primary category Product_Category_1.\n",
    "# We can fill them with null values\n",
    "\n",
    "combine_df['Product_Category_2'].fillna(0, inplace=True)\n",
    "combine_df['Product_Category_3'].fillna(0, inplace=True)"
   ]
  },
  {
   "cell_type": "code",
   "execution_count": 31,
   "id": "0f054d73-ff4b-4451-b7a9-bf43ac3da21e",
   "metadata": {},
   "outputs": [
    {
     "data": {
      "text/plain": [
       "User_ID                            0\n",
       "Product_ID                         0\n",
       "Gender                             0\n",
       "Age                                0\n",
       "Occupation                         0\n",
       "City_Category                      0\n",
       "Stay_In_Current_City_Years         0\n",
       "Marital_Status                     0\n",
       "Product_Category_1                 0\n",
       "Product_Category_2                 0\n",
       "Product_Category_3                 0\n",
       "Purchase                      233599\n",
       "source                             0\n",
       "dtype: int64"
      ]
     },
     "execution_count": 31,
     "metadata": {},
     "output_type": "execute_result"
    }
   ],
   "source": [
    "combine_df.isna().sum()"
   ]
  },
  {
   "cell_type": "code",
   "execution_count": 32,
   "id": "dfd9fe2b-2285-4b09-a4b4-f92a751fc379",
   "metadata": {},
   "outputs": [],
   "source": [
    "from sklearn.preprocessing import LabelEncoder\n",
    "lr = LabelEncoder()\n",
    "\n",
    "train_df = combine_df[combine_df.source=='train']\n",
    "test_df = combine_df[combine_df.source=='test']"
   ]
  },
  {
   "cell_type": "code",
   "execution_count": 33,
   "id": "edb31a32-0009-4af6-9ebf-e07443b56d2e",
   "metadata": {},
   "outputs": [
    {
     "name": "stderr",
     "output_type": "stream",
     "text": [
      "<ipython-input-33-7110cde00eb9>:1: SettingWithCopyWarning: \n",
      "A value is trying to be set on a copy of a slice from a DataFrame.\n",
      "Try using .loc[row_indexer,col_indexer] = value instead\n",
      "\n",
      "See the caveats in the documentation: https://pandas.pydata.org/pandas-docs/stable/user_guide/indexing.html#returning-a-view-versus-a-copy\n",
      "  train_df['City_Category'] = lr.fit_transform(train_df['City_Category'])\n",
      "<ipython-input-33-7110cde00eb9>:2: SettingWithCopyWarning: \n",
      "A value is trying to be set on a copy of a slice from a DataFrame.\n",
      "Try using .loc[row_indexer,col_indexer] = value instead\n",
      "\n",
      "See the caveats in the documentation: https://pandas.pydata.org/pandas-docs/stable/user_guide/indexing.html#returning-a-view-versus-a-copy\n",
      "  test_df['City_Category'] = lr.transform(test_df['City_Category'])\n",
      "<ipython-input-33-7110cde00eb9>:4: SettingWithCopyWarning: \n",
      "A value is trying to be set on a copy of a slice from a DataFrame.\n",
      "Try using .loc[row_indexer,col_indexer] = value instead\n",
      "\n",
      "See the caveats in the documentation: https://pandas.pydata.org/pandas-docs/stable/user_guide/indexing.html#returning-a-view-versus-a-copy\n",
      "  train_df['Stay_In_Current_City_Years'] = lr.fit_transform(train_df['Stay_In_Current_City_Years'])\n",
      "<ipython-input-33-7110cde00eb9>:5: SettingWithCopyWarning: \n",
      "A value is trying to be set on a copy of a slice from a DataFrame.\n",
      "Try using .loc[row_indexer,col_indexer] = value instead\n",
      "\n",
      "See the caveats in the documentation: https://pandas.pydata.org/pandas-docs/stable/user_guide/indexing.html#returning-a-view-versus-a-copy\n",
      "  test_df['Stay_In_Current_City_Years'] = lr.transform(test_df['Stay_In_Current_City_Years'])\n"
     ]
    }
   ],
   "source": [
    "train_df['City_Category'] = lr.fit_transform(train_df['City_Category'])\n",
    "test_df['City_Category'] = lr.transform(test_df['City_Category'])\n",
    "\n",
    "train_df['Stay_In_Current_City_Years'] = lr.fit_transform(train_df['Stay_In_Current_City_Years'])\n",
    "test_df['Stay_In_Current_City_Years'] = lr.transform(test_df['Stay_In_Current_City_Years'])\n",
    "\n",
    "combine_df = train_df.append(test_df)"
   ]
  },
  {
   "cell_type": "markdown",
   "id": "76cfbb51-1ec5-48c8-8e2e-988669227914",
   "metadata": {},
   "source": [
    "#### Why do we encode Categorical Variables ?\n",
    "\n",
    "Categorical variables require special attention in regression analysis because, unlike dichotomous or continuous variables, they cannot by entered into the regression equation just as they are.  Instead, they need to be recoded into a series of variables which can then be entered into the regression model.\n",
    "\n",
    "https://stats.oarc.ucla.edu/spss/faq/coding-systems-for-categorical-variables-in-regression-analysis/\n",
    "\n",
    "#### Target Encoding\n",
    "\n",
    "Target encoding involves replacing a categorical feature with average target value of all data points belonging to the category. Target encoding is a Baysian encoding technique.\n",
    "\n",
    "Bayesian encoders use information from dependent/target variables to encode the categorical data.\n",
    "\n",
    "https://www.analyticsvidhya.com/blog/2020/08/types-of-categorical-data-encoding/"
   ]
  },
  {
   "cell_type": "code",
   "execution_count": 34,
   "id": "99c3656e-5cd0-4ed2-b077-8dcfec2b8b28",
   "metadata": {},
   "outputs": [],
   "source": [
    "import category_encoders as ce\n",
    "\n",
    "def target_enc(train_df, test_df, features):\n",
    "    targ_enc = ce.TargetEncoder(cols=features)\n",
    "    targ_enc.fit(train_df[features], train_df['Purchase'])\n",
    "    \n",
    "    train_df = train_df.join(targ_enc.transform(train_df[features]).add_suffix('_targ'))\n",
    "    test_df = test_df.join(targ_enc.transform(test_df[features]).add_suffix('_targ'))\n",
    "    \n",
    "    train_df = train_df.drop(features, axis=1)\n",
    "    test_df = test_df.drop(features, axis=1)\n",
    "    \n",
    "    return train_df, test_df\n",
    "\n",
    "features = ['Occupation', 'Product_Category_1', 'Product_Category_2', 'Product_Category_3', 'Gender', 'Age']\n",
    "train_df_enc, test_df_enc = target_enc(train_df, test_df,features)"
   ]
  },
  {
   "cell_type": "code",
   "execution_count": 35,
   "id": "7cef80e7-1344-4c19-98e6-0bd5bec9d471",
   "metadata": {},
   "outputs": [
    {
     "data": {
      "image/png": "[encoded data removed]",
      "text/plain": [
       "<Figure size 1080x360 with 2 Axes>"
      ]
     },
     "metadata": {
      "needs_background": "light"
     },
     "output_type": "display_data"
    }
   ],
   "source": [
    "plt.figure(figsize=(15,5))\n",
    "sns.heatmap(train_df_enc.corr(),annot=True)\n",
    "plt.show()"
   ]
  },
  {
   "cell_type": "code",
   "execution_count": 36,
   "id": "93a8dbf5-9363-4114-b160-37e4531a9847",
   "metadata": {},
   "outputs": [
    {
     "data": {
      "text/plain": [
       "(783667, 13)"
      ]
     },
     "execution_count": 36,
     "metadata": {},
     "output_type": "execute_result"
    }
   ],
   "source": [
    "combine_df= train_df_enc.append(test_df_enc)\n",
    "combine_df.shape"
   ]
  },
  {
   "cell_type": "code",
   "execution_count": 37,
   "id": "436a6baf-1aff-460f-8446-ab4a33eaf6d9",
   "metadata": {},
   "outputs": [],
   "source": [
    "# Since User_ID, Product_ID are identifiers.\n",
    "# Marital_Status is very poorly correlated with respect to target\n",
    "\n",
    "to_be_dropped=['Marital_Status']\n",
    "combine_df = combine_df.drop(columns=to_be_dropped)"
   ]
  },
  {
   "cell_type": "markdown",
   "id": "147d5ab9-9ac6-49d5-911c-8e1b491ac880",
   "metadata": {},
   "source": [
    "## Modelling"
   ]
  },
  {
   "cell_type": "code",
   "execution_count": 38,
   "id": "f64001fd-0367-4ba3-af78-70d752bbaaac",
   "metadata": {},
   "outputs": [],
   "source": [
    "from sklearn.model_selection import train_test_split\n",
    "from sklearn.linear_model import LinearRegression\n",
    "from sklearn.metrics import mean_absolute_error,mean_squared_error, r2_score\n",
    "from sklearn.tree import DecisionTreeRegressor\n",
    "from sklearn.ensemble import RandomForestRegressor\n",
    "from xgboost.sklearn import XGBRegressor\n",
    "from math import sqrt"
   ]
  },
  {
   "cell_type": "code",
   "execution_count": 39,
   "id": "53a97c2e-5569-45eb-a2a3-5e85fbb48b72",
   "metadata": {},
   "outputs": [
    {
     "name": "stderr",
     "output_type": "stream",
     "text": [
      "C:\\Users\\gayathri.gopalan\\Anaconda3\\lib\\site-packages\\pandas\\core\\frame.py:4308: SettingWithCopyWarning: \n",
      "A value is trying to be set on a copy of a slice from a DataFrame\n",
      "\n",
      "See the caveats in the documentation: https://pandas.pydata.org/pandas-docs/stable/user_guide/indexing.html#returning-a-view-versus-a-copy\n",
      "  return super().drop(\n"
     ]
    }
   ],
   "source": [
    "# Splitting train and test_df\n",
    "train_df = combine_df[combine_df.source=='train']\n",
    "test_df = combine_df[combine_df.source=='test']\n",
    "\n",
    "# Removing the source column from test and train\n",
    "train_df.drop(['source','User_ID', 'Product_ID'], axis=1, inplace=True)\n",
    "test_df.drop(['Purchase', 'source'], axis=1, inplace=True)\n",
    "\n",
    "\n",
    "# Splitting data into independent & dependent variables\n",
    "X = train_df.drop(\"Purchase\",axis=1)\n",
    "y = train_df[\"Purchase\"]\n",
    "\n",
    "X_train, X_test, y_train, y_test = train_test_split(X, y, test_size=0.3, random_state=123)"
   ]
  },
  {
   "cell_type": "markdown",
   "id": "80d41812-39c0-4fb3-8c7c-aed78af61aeb",
   "metadata": {},
   "source": [
    "### Linear Regression"
   ]
  },
  {
   "cell_type": "code",
   "execution_count": 40,
   "id": "1be7e59f-b560-47b0-99e5-09d40ddd0bd1",
   "metadata": {},
   "outputs": [
    {
     "data": {
      "text/plain": [
       "LinearRegression()"
      ]
     },
     "execution_count": 40,
     "metadata": {},
     "output_type": "execute_result"
    }
   ],
   "source": [
    "lr = LinearRegression()\n",
    "lr.fit(X_train,y_train)"
   ]
  },
  {
   "cell_type": "code",
   "execution_count": 41,
   "id": "3ba97e35-dd54-4661-a9f6-03d51c0f27ca",
   "metadata": {},
   "outputs": [
    {
     "data": {
      "text/plain": [
       "-10847.561067250137"
      ]
     },
     "execution_count": 41,
     "metadata": {},
     "output_type": "execute_result"
    }
   ],
   "source": [
    "lr.intercept_"
   ]
  },
  {
   "cell_type": "code",
   "execution_count": 42,
   "id": "6dc30f4d-7280-4114-8e34-c67c204c0c9d",
   "metadata": {},
   "outputs": [
    {
     "data": {
      "text/plain": [
       "array([ 2.84295949e+02, -1.24574935e+00,  2.83006375e-01,  9.84945904e-01,\n",
       "        2.96241247e-02,  3.80904994e-02, -1.17408804e-01,  9.21453531e-01])"
      ]
     },
     "execution_count": 42,
     "metadata": {},
     "output_type": "execute_result"
    }
   ],
   "source": [
    "lr.coef_"
   ]
  },
  {
   "cell_type": "code",
   "execution_count": 43,
   "id": "71b77f21-54df-47ed-b6e5-cf7b2c1340fd",
   "metadata": {},
   "outputs": [],
   "source": [
    "y_pred = lr.predict(X_test)"
   ]
  },
  {
   "cell_type": "markdown",
   "id": "9715c1de-f771-4f3b-86c6-1288ade44aa0",
   "metadata": {},
   "source": [
    "###### Definition of the Metrics\n",
    "\n",
    "- RMSE provides the Root Mean Square (difference) between the predicted & the actual values. \n",
    "- R-square is the proportion of variance of the response variable that can be explain by predictor variables."
   ]
  },
  {
   "cell_type": "code",
   "execution_count": 45,
   "id": "78a882dd-289a-4fc1-8abc-1c4929313548",
   "metadata": {},
   "outputs": [
    {
     "name": "stdout",
     "output_type": "stream",
     "text": [
      "Mean Absolute Error:  2285.4982363448757\n",
      "Mean Squared Error:  9086912.727525394\n",
      "R2 Score:  0.6398543806665525\n",
      "---------------------------------------------------------\n",
      "RMSE of the model:  3014.4506510350097\n"
     ]
    }
   ],
   "source": [
    "print(\"Mean Absolute Error: \", mean_absolute_error(y_test, y_pred))\n",
    "print(\"Mean Squared Error: \", mean_squared_error(y_test, y_pred))\n",
    "print(\"R2 Score: \", r2_score(y_test, y_pred))\n",
    "\n",
    "print(\"---------------------------------------------------------\")\n",
    "print(\"RMSE of the model: \",sqrt(mean_squared_error(y_test, y_pred)))\n"
   ]
  },
  {
   "cell_type": "code",
   "execution_count": 46,
   "id": "d61e6db5-d907-4732-b4a5-6c2ebc56f165",
   "metadata": {},
   "outputs": [
    {
     "data": {
      "text/plain": [
       "count    550068.000000\n",
       "mean       9263.968713\n",
       "std        5023.065394\n",
       "min          12.000000\n",
       "25%        5823.000000\n",
       "50%        8047.000000\n",
       "75%       12054.000000\n",
       "max       23961.000000\n",
       "Name: Purchase, dtype: float64"
      ]
     },
     "execution_count": 46,
     "metadata": {},
     "output_type": "execute_result"
    }
   ],
   "source": [
    "train_df.Purchase.describe()"
   ]
  },
  {
   "cell_type": "markdown",
   "id": "1c94d152-92fb-4bbf-a039-f0826a067cc1",
   "metadata": {},
   "source": [
    "### RandomForest Regression"
   ]
  },
  {
   "cell_type": "code",
   "execution_count": 47,
   "id": "65ab517a-04b1-4e75-b1e3-4d9037eac54a",
   "metadata": {},
   "outputs": [],
   "source": [
    "RFregressor = RandomForestRegressor()  "
   ]
  },
  {
   "cell_type": "code",
   "execution_count": 48,
   "id": "e5191487-e24f-4c8a-b2da-4935c0b9d071",
   "metadata": {},
   "outputs": [
    {
     "data": {
      "text/plain": [
       "RandomForestRegressor()"
      ]
     },
     "execution_count": 48,
     "metadata": {},
     "output_type": "execute_result"
    }
   ],
   "source": [
    "RFregressor.fit(X_train, y_train)"
   ]
  },
  {
   "cell_type": "code",
   "execution_count": 49,
   "id": "f272515a-9cc3-45e8-afab-aebf698f8ed6",
   "metadata": {},
   "outputs": [],
   "source": [
    "y_pred = RFregressor.predict(X_test)"
   ]
  },
  {
   "cell_type": "code",
   "execution_count": 50,
   "id": "b6ad60e1-f99c-444d-b8d3-13f93a39f826",
   "metadata": {},
   "outputs": [
    {
     "name": "stdout",
     "output_type": "stream",
     "text": [
      "Mean Absolute Error:  2232.8452714973764\n",
      "Mean Squared Error:  9351304.270162541\n",
      "R2 Score:  0.6293756340641834\n",
      "---------------------------------------------------------\n",
      "RMSE of the model:  3057.9902338239312\n"
     ]
    }
   ],
   "source": [
    "print(\"Mean Absolute Error: \", mean_absolute_error(y_test, y_pred))\n",
    "print(\"Mean Squared Error: \", mean_squared_error(y_test, y_pred))\n",
    "print(\"R2 Score: \", r2_score(y_test, y_pred))\n",
    "\n",
    "print(\"---------------------------------------------------------\")\n",
    "print(\"RMSE of the model: \",sqrt(mean_squared_error(y_test, y_pred)))"
   ]
  },
  {
   "cell_type": "markdown",
   "id": "2a28d8fe-8c8e-45ae-91b4-afda9b35275b",
   "metadata": {},
   "source": [
    "### XGBoost Regressor"
   ]
  },
  {
   "cell_type": "code",
   "execution_count": 51,
   "id": "b2574ffd-ef98-4725-91fd-8facdbcd99e1",
   "metadata": {},
   "outputs": [
    {
     "data": {
      "text/plain": [
       "XGBRegressor(base_score=0.5, booster='gbtree', colsample_bylevel=1,\n",
       "             colsample_bynode=1, colsample_bytree=1, enable_categorical=False,\n",
       "             gamma=0, gpu_id=-1, importance_type=None,\n",
       "             interaction_constraints='', learning_rate=1.0, max_delta_step=0,\n",
       "             max_depth=6, min_child_weight=40, missing=nan,\n",
       "             monotone_constraints='()', n_estimators=100, n_jobs=8,\n",
       "             num_parallel_tree=1, predictor='auto', random_state=0, reg_alpha=0,\n",
       "             reg_lambda=1, scale_pos_weight=1, seed=0, subsample=1,\n",
       "             tree_method='exact', validate_parameters=1, verbosity=None)"
      ]
     },
     "execution_count": 51,
     "metadata": {},
     "output_type": "execute_result"
    }
   ],
   "source": [
    "xgb = XGBRegressor(learning_rate=1.0, max_depth=6, min_child_weight=40, seed=0)\n",
    "\n",
    "xgb.fit(X_train, y_train)"
   ]
  },
  {
   "cell_type": "code",
   "execution_count": 52,
   "id": "26bbbafd-810e-49b2-aece-af1f7ba3a0e0",
   "metadata": {},
   "outputs": [],
   "source": [
    "y_pred = xgb.predict(X_test)"
   ]
  },
  {
   "cell_type": "code",
   "execution_count": 53,
   "id": "bf5a84ab-e178-403b-9da8-dcf5c1447b90",
   "metadata": {},
   "outputs": [
    {
     "name": "stdout",
     "output_type": "stream",
     "text": [
      "Mean Absolute Error:  2149.8811954418993\n",
      "Mean Squared Error:  8317788.544182613\n",
      "R2 Score:  0.670337418598155\n",
      "---------------------------------------------------------\n",
      "RMSE of the model:  2884.0576527147673\n"
     ]
    }
   ],
   "source": [
    "print(\"Mean Absolute Error: \", mean_absolute_error(y_test, y_pred))\n",
    "print(\"Mean Squared Error: \", mean_squared_error(y_test, y_pred))\n",
    "print(\"R2 Score: \", r2_score(y_test, y_pred))\n",
    "\n",
    "print(\"---------------------------------------------------------\")\n",
    "print(\"RMSE of the model: \",sqrt(mean_squared_error(y_test, y_pred)))"
   ]
  },
  {
   "cell_type": "markdown",
   "id": "72b07921-a47d-4087-84bb-39c60712a5c1",
   "metadata": {},
   "source": [
    "### Calculating Purchase in unseen data"
   ]
  },
  {
   "cell_type": "code",
   "execution_count": 66,
   "id": "29e77de0-d773-4069-aa59-47bff41389ca",
   "metadata": {},
   "outputs": [],
   "source": [
    "test_df_eval = test_df.drop(['User_ID', 'Product_ID'],axis=1)\n",
    "\n",
    "final_pred = xgb.predict(test_df_eval)\n",
    "final_df = test_df[['User_ID', 'Product_ID']]\n",
    "final_df.insert(0, 'Purchase', final_pred)\n",
    "\n",
    "final_df.to_csv('xgb_black_friday_sale.csv',index=False)"
   ]
  },
  {
   "cell_type": "code",
   "execution_count": 60,
   "id": "b6fd36af-c82c-450c-9455-b1895239c786",
   "metadata": {},
   "outputs": [
    {
     "data": {
      "text/plain": [
       "(233599, 8)"
      ]
     },
     "execution_count": 60,
     "metadata": {},
     "output_type": "execute_result"
    }
   ],
   "source": [
    "test_df_eval.shape"
   ]
  },
  {
   "cell_type": "code",
   "execution_count": 54,
   "id": "98e3f591-684f-4990-8091-92a3e90ef309",
   "metadata": {},
   "outputs": [
    {
     "data": {
      "text/plain": [
       "(385047, 8)"
      ]
     },
     "execution_count": 54,
     "metadata": {},
     "output_type": "execute_result"
    }
   ],
   "source": [
    "X_train.shape"
   ]
  },
  {
   "cell_type": "markdown",
   "id": "310395dc-33b5-41dc-9d54-612c7876a0ac",
   "metadata": {},
   "source": [
    "## Conclusion and Future Perspecitves"
   ]
  },
  {
   "cell_type": "markdown",
   "id": "0b64ff1f-07c2-47c1-be92-8e53c553236a",
   "metadata": {},
   "source": [
    "XGBoost seems to have the lowest RMSE, higher R2 value and is doing good. More features can be created in order to improve the performance of the model"
   ]
  },
  {
   "cell_type": "code",
   "execution_count": null,
   "id": "973e4e46-08cb-4313-97b2-74a23ec40809",
   "metadata": {},
   "outputs": [],
   "source": []
  }
 ],
 "metadata": {
  "kernelspec": {
   "display_name": "Python 3 (ipykernel)",
   "language": "python",
   "name": "python3"
  },
  "language_info": {
   "codemirror_mode": {
    "name": "ipython",
    "version": 3
   },
   "file_extension": ".py",
   "mimetype": "text/x-python",
   "name": "python",
   "nbconvert_exporter": "python",
   "pygments_lexer": "ipython3",
   "version": "3.9.7"
  }
 },
 "nbformat": 4,
 "nbformat_minor": 5
}
